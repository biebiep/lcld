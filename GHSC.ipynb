{
 "cells": [
  {
   "cell_type": "code",
   "execution_count": 1,
   "metadata": {},
   "outputs": [],
   "source": [
    "import pandas as pd\n",
    "import numpy as np\n",
    "import matplotlib.pyplot as plt\n",
    "import seaborn as sns"
   ]
  },
  {
   "cell_type": "code",
   "execution_count": 2,
   "metadata": {},
   "outputs": [],
   "source": [
    "%matplotlib inline\n",
    "pd.set_option('display.float_format', '{:.4f}'.format)"
   ]
  },
  {
   "cell_type": "code",
   "execution_count": 3,
   "metadata": {},
   "outputs": [],
   "source": [
    "columns = ['loan_amnt', 'funded_amnt', 'term', 'int_rate', 'grade', 'annual_inc', 'issue_d',\n",
    "'dti', 'revol_bal', 'total_pymnt', 'loan_status']"
   ]
  },
  {
   "cell_type": "markdown",
   "metadata": {},
   "source": [
    "## PART1: DATA EXPLORATION AND EVALUATION"
   ]
  },
  {
   "cell_type": "code",
   "execution_count": 4,
   "metadata": {},
   "outputs": [],
   "source": [
    "loans = pd.read_csv(\"loan.csv\", low_memory= False)"
   ]
  },
  {
   "cell_type": "markdown",
   "metadata": {},
   "source": [
    "Load the data, select the relevant columns, and perform any necessary cleaning and aggregations to explore and better\n",
    "understand the dataset. \n",
    "\n",
    "Describe any assumptions you made to handle null variables and outliers. \n",
    "Describe the distributions of the features.\n",
    "\n",
    "Include two data visualizations and two summary statistics to support these findings."
   ]
  },
  {
   "cell_type": "code",
   "execution_count": 5,
   "metadata": {},
   "outputs": [],
   "source": [
    "loan_subset = loans[columns]"
   ]
  },
  {
   "cell_type": "code",
   "execution_count": 6,
   "metadata": {},
   "outputs": [
    {
     "data": {
      "text/html": [
       "<div>\n",
       "<style scoped>\n",
       "    .dataframe tbody tr th:only-of-type {\n",
       "        vertical-align: middle;\n",
       "    }\n",
       "\n",
       "    .dataframe tbody tr th {\n",
       "        vertical-align: top;\n",
       "    }\n",
       "\n",
       "    .dataframe thead th {\n",
       "        text-align: right;\n",
       "    }\n",
       "</style>\n",
       "<table border=\"1\" class=\"dataframe\">\n",
       "  <thead>\n",
       "    <tr style=\"text-align: right;\">\n",
       "      <th></th>\n",
       "      <th>loan_amnt</th>\n",
       "      <th>funded_amnt</th>\n",
       "      <th>term</th>\n",
       "      <th>int_rate</th>\n",
       "      <th>grade</th>\n",
       "      <th>annual_inc</th>\n",
       "      <th>issue_d</th>\n",
       "      <th>dti</th>\n",
       "      <th>revol_bal</th>\n",
       "      <th>total_pymnt</th>\n",
       "      <th>loan_status</th>\n",
       "    </tr>\n",
       "  </thead>\n",
       "  <tbody>\n",
       "    <tr>\n",
       "      <th>0</th>\n",
       "      <td>2500</td>\n",
       "      <td>2500</td>\n",
       "      <td>36 months</td>\n",
       "      <td>13.5600</td>\n",
       "      <td>C</td>\n",
       "      <td>55000.0000</td>\n",
       "      <td>Dec-2018</td>\n",
       "      <td>18.2400</td>\n",
       "      <td>4341</td>\n",
       "      <td>167.0200</td>\n",
       "      <td>Current</td>\n",
       "    </tr>\n",
       "    <tr>\n",
       "      <th>1</th>\n",
       "      <td>30000</td>\n",
       "      <td>30000</td>\n",
       "      <td>60 months</td>\n",
       "      <td>18.9400</td>\n",
       "      <td>D</td>\n",
       "      <td>90000.0000</td>\n",
       "      <td>Dec-2018</td>\n",
       "      <td>26.5200</td>\n",
       "      <td>12315</td>\n",
       "      <td>1507.1100</td>\n",
       "      <td>Current</td>\n",
       "    </tr>\n",
       "    <tr>\n",
       "      <th>2</th>\n",
       "      <td>5000</td>\n",
       "      <td>5000</td>\n",
       "      <td>36 months</td>\n",
       "      <td>17.9700</td>\n",
       "      <td>D</td>\n",
       "      <td>59280.0000</td>\n",
       "      <td>Dec-2018</td>\n",
       "      <td>10.5100</td>\n",
       "      <td>4599</td>\n",
       "      <td>353.8900</td>\n",
       "      <td>Current</td>\n",
       "    </tr>\n",
       "    <tr>\n",
       "      <th>3</th>\n",
       "      <td>4000</td>\n",
       "      <td>4000</td>\n",
       "      <td>36 months</td>\n",
       "      <td>18.9400</td>\n",
       "      <td>D</td>\n",
       "      <td>92000.0000</td>\n",
       "      <td>Dec-2018</td>\n",
       "      <td>16.7400</td>\n",
       "      <td>5468</td>\n",
       "      <td>286.7100</td>\n",
       "      <td>Current</td>\n",
       "    </tr>\n",
       "    <tr>\n",
       "      <th>4</th>\n",
       "      <td>30000</td>\n",
       "      <td>30000</td>\n",
       "      <td>60 months</td>\n",
       "      <td>16.1400</td>\n",
       "      <td>C</td>\n",
       "      <td>57250.0000</td>\n",
       "      <td>Dec-2018</td>\n",
       "      <td>26.3500</td>\n",
       "      <td>829</td>\n",
       "      <td>1423.2100</td>\n",
       "      <td>Current</td>\n",
       "    </tr>\n",
       "  </tbody>\n",
       "</table>\n",
       "</div>"
      ],
      "text/plain": [
       "   loan_amnt  funded_amnt        term  int_rate grade  annual_inc   issue_d  \\\n",
       "0       2500         2500   36 months   13.5600     C  55000.0000  Dec-2018   \n",
       "1      30000        30000   60 months   18.9400     D  90000.0000  Dec-2018   \n",
       "2       5000         5000   36 months   17.9700     D  59280.0000  Dec-2018   \n",
       "3       4000         4000   36 months   18.9400     D  92000.0000  Dec-2018   \n",
       "4      30000        30000   60 months   16.1400     C  57250.0000  Dec-2018   \n",
       "\n",
       "      dti  revol_bal  total_pymnt loan_status  \n",
       "0 18.2400       4341     167.0200     Current  \n",
       "1 26.5200      12315    1507.1100     Current  \n",
       "2 10.5100       4599     353.8900     Current  \n",
       "3 16.7400       5468     286.7100     Current  \n",
       "4 26.3500        829    1423.2100     Current  "
      ]
     },
     "execution_count": 6,
     "metadata": {},
     "output_type": "execute_result"
    }
   ],
   "source": [
    "loan_subset.head()"
   ]
  },
  {
   "cell_type": "code",
   "execution_count": 7,
   "metadata": {},
   "outputs": [
    {
     "data": {
      "text/plain": [
       "loan_amnt        int64\n",
       "funded_amnt      int64\n",
       "term            object\n",
       "int_rate       float64\n",
       "grade           object\n",
       "annual_inc     float64\n",
       "issue_d         object\n",
       "dti            float64\n",
       "revol_bal        int64\n",
       "total_pymnt    float64\n",
       "loan_status     object\n",
       "dtype: object"
      ]
     },
     "execution_count": 7,
     "metadata": {},
     "output_type": "execute_result"
    }
   ],
   "source": [
    "loan_subset.dtypes"
   ]
  },
  {
   "cell_type": "code",
   "execution_count": 42,
   "metadata": {},
   "outputs": [],
   "source": [
    "loan_subset.loc[:,'term_int'] = loan_subset.term.str.slice(1,3).astype(int)\n",
    "\n",
    "#typing\n",
    "loan_subset.loc[:,'issue_date'] = pd.to_datetime(loan_subset.issue_d, format='%b-%Y')\n",
    "loan_subset.loc[:,'month_issued'] = loan_subset.issue_date.dt.month\n",
    "loan_subset.loc[:,'year_issued'] = loan_subset.issue_date.dt.year\n",
    "\n",
    "loan_subset.loc[:,'grade'] = loan_subset.grade.astype('category')\n",
    "loan_subset.loc[:,'loan_status'] = loan_subset.loan_status.astype('category')"
   ]
  },
  {
   "cell_type": "code",
   "execution_count": 9,
   "metadata": {},
   "outputs": [
    {
     "data": {
      "text/plain": [
       "loan_amnt          0\n",
       "funded_amnt        0\n",
       "term               0\n",
       "int_rate           0\n",
       "grade              0\n",
       "annual_inc         4\n",
       "issue_d            0\n",
       "dti             1711\n",
       "revol_bal          0\n",
       "total_pymnt        0\n",
       "loan_status        0\n",
       "term_int           0\n",
       "issue_date         0\n",
       "month_issued       0\n",
       "year_issued        0\n",
       "dtype: int64"
      ]
     },
     "execution_count": 9,
     "metadata": {},
     "output_type": "execute_result"
    }
   ],
   "source": [
    "#missings?\n",
    "loan_subset.isnull().sum()"
   ]
  },
  {
   "cell_type": "code",
   "execution_count": 10,
   "metadata": {},
   "outputs": [
    {
     "data": {
      "text/plain": [
       "loan_amnt      0.0000\n",
       "funded_amnt    0.0000\n",
       "term           0.0000\n",
       "int_rate       0.0000\n",
       "grade          0.0000\n",
       "annual_inc     0.0002\n",
       "issue_d        0.0000\n",
       "dti            0.0757\n",
       "revol_bal      0.0000\n",
       "total_pymnt    0.0000\n",
       "loan_status    0.0000\n",
       "term_int       0.0000\n",
       "issue_date     0.0000\n",
       "month_issued   0.0000\n",
       "year_issued    0.0000\n",
       "dtype: float64"
      ]
     },
     "execution_count": 10,
     "metadata": {},
     "output_type": "execute_result"
    }
   ],
   "source": [
    "#percent_missings?\n",
    "loan_subset.isnull().sum() * 100 / len(loan_subset)"
   ]
  },
  {
   "cell_type": "code",
   "execution_count": 11,
   "metadata": {},
   "outputs": [],
   "source": [
    "#lets store these somewhere safe\n",
    "null_data = loan_subset[loan_subset.isnull().any(axis=1)]"
   ]
  },
  {
   "cell_type": "code",
   "execution_count": 12,
   "metadata": {},
   "outputs": [
    {
     "data": {
      "text/html": [
       "<div>\n",
       "<style scoped>\n",
       "    .dataframe tbody tr th:only-of-type {\n",
       "        vertical-align: middle;\n",
       "    }\n",
       "\n",
       "    .dataframe tbody tr th {\n",
       "        vertical-align: top;\n",
       "    }\n",
       "\n",
       "    .dataframe thead th {\n",
       "        text-align: right;\n",
       "    }\n",
       "</style>\n",
       "<table border=\"1\" class=\"dataframe\">\n",
       "  <thead>\n",
       "    <tr style=\"text-align: right;\">\n",
       "      <th></th>\n",
       "      <th>loan_amnt</th>\n",
       "      <th>funded_amnt</th>\n",
       "      <th>term</th>\n",
       "      <th>int_rate</th>\n",
       "      <th>grade</th>\n",
       "      <th>annual_inc</th>\n",
       "      <th>issue_d</th>\n",
       "      <th>dti</th>\n",
       "      <th>revol_bal</th>\n",
       "      <th>total_pymnt</th>\n",
       "      <th>loan_status</th>\n",
       "      <th>term_int</th>\n",
       "      <th>issue_date</th>\n",
       "      <th>month_issued</th>\n",
       "      <th>year_issued</th>\n",
       "    </tr>\n",
       "  </thead>\n",
       "  <tbody>\n",
       "    <tr>\n",
       "      <th>428</th>\n",
       "      <td>13000</td>\n",
       "      <td>13000</td>\n",
       "      <td>60 months</td>\n",
       "      <td>10.7200</td>\n",
       "      <td>B</td>\n",
       "      <td>0.0000</td>\n",
       "      <td>Dec-2018</td>\n",
       "      <td>nan</td>\n",
       "      <td>32720</td>\n",
       "      <td>273.1100</td>\n",
       "      <td>Current</td>\n",
       "      <td>60</td>\n",
       "      <td>2018-12-01</td>\n",
       "      <td>12</td>\n",
       "      <td>2018</td>\n",
       "    </tr>\n",
       "    <tr>\n",
       "      <th>593</th>\n",
       "      <td>18000</td>\n",
       "      <td>18000</td>\n",
       "      <td>60 months</td>\n",
       "      <td>16.9100</td>\n",
       "      <td>C</td>\n",
       "      <td>0.0000</td>\n",
       "      <td>Dec-2018</td>\n",
       "      <td>nan</td>\n",
       "      <td>8546</td>\n",
       "      <td>867.6000</td>\n",
       "      <td>Current</td>\n",
       "      <td>60</td>\n",
       "      <td>2018-12-01</td>\n",
       "      <td>12</td>\n",
       "      <td>2018</td>\n",
       "    </tr>\n",
       "    <tr>\n",
       "      <th>1605</th>\n",
       "      <td>35000</td>\n",
       "      <td>35000</td>\n",
       "      <td>60 months</td>\n",
       "      <td>16.9100</td>\n",
       "      <td>C</td>\n",
       "      <td>0.0000</td>\n",
       "      <td>Dec-2018</td>\n",
       "      <td>nan</td>\n",
       "      <td>27917</td>\n",
       "      <td>1686.9800</td>\n",
       "      <td>Current</td>\n",
       "      <td>60</td>\n",
       "      <td>2018-12-01</td>\n",
       "      <td>12</td>\n",
       "      <td>2018</td>\n",
       "    </tr>\n",
       "    <tr>\n",
       "      <th>2647</th>\n",
       "      <td>5500</td>\n",
       "      <td>5500</td>\n",
       "      <td>36 months</td>\n",
       "      <td>13.5600</td>\n",
       "      <td>C</td>\n",
       "      <td>0.0000</td>\n",
       "      <td>Dec-2018</td>\n",
       "      <td>nan</td>\n",
       "      <td>1391</td>\n",
       "      <td>363.2600</td>\n",
       "      <td>Current</td>\n",
       "      <td>36</td>\n",
       "      <td>2018-12-01</td>\n",
       "      <td>12</td>\n",
       "      <td>2018</td>\n",
       "    </tr>\n",
       "    <tr>\n",
       "      <th>3404</th>\n",
       "      <td>4700</td>\n",
       "      <td>4700</td>\n",
       "      <td>36 months</td>\n",
       "      <td>10.3300</td>\n",
       "      <td>B</td>\n",
       "      <td>0.0000</td>\n",
       "      <td>Dec-2018</td>\n",
       "      <td>nan</td>\n",
       "      <td>158</td>\n",
       "      <td>298.0400</td>\n",
       "      <td>Current</td>\n",
       "      <td>36</td>\n",
       "      <td>2018-12-01</td>\n",
       "      <td>12</td>\n",
       "      <td>2018</td>\n",
       "    </tr>\n",
       "  </tbody>\n",
       "</table>\n",
       "</div>"
      ],
      "text/plain": [
       "      loan_amnt  funded_amnt        term  int_rate grade  annual_inc  \\\n",
       "428       13000        13000   60 months   10.7200     B      0.0000   \n",
       "593       18000        18000   60 months   16.9100     C      0.0000   \n",
       "1605      35000        35000   60 months   16.9100     C      0.0000   \n",
       "2647       5500         5500   36 months   13.5600     C      0.0000   \n",
       "3404       4700         4700   36 months   10.3300     B      0.0000   \n",
       "\n",
       "       issue_d  dti  revol_bal  total_pymnt loan_status  term_int issue_date  \\\n",
       "428   Dec-2018  nan      32720     273.1100     Current        60 2018-12-01   \n",
       "593   Dec-2018  nan       8546     867.6000     Current        60 2018-12-01   \n",
       "1605  Dec-2018  nan      27917    1686.9800     Current        60 2018-12-01   \n",
       "2647  Dec-2018  nan       1391     363.2600     Current        36 2018-12-01   \n",
       "3404  Dec-2018  nan        158     298.0400     Current        36 2018-12-01   \n",
       "\n",
       "      month_issued  year_issued  \n",
       "428             12         2018  \n",
       "593             12         2018  \n",
       "1605            12         2018  \n",
       "2647            12         2018  \n",
       "3404            12         2018  "
      ]
     },
     "execution_count": 12,
     "metadata": {},
     "output_type": "execute_result"
    }
   ],
   "source": [
    "null_data.head()"
   ]
  },
  {
   "cell_type": "code",
   "execution_count": 13,
   "metadata": {},
   "outputs": [
    {
     "data": {
      "text/plain": [
       "96.73469387755102"
      ]
     },
     "execution_count": 13,
     "metadata": {},
     "output_type": "execute_result"
    }
   ],
   "source": [
    "#96% of missing values just have missing annual income and account for less than 0.1% of the data.\n",
    "#dropping these is not going to matter\n",
    "sum(((null_data['annual_inc']==0) | null_data['annual_inc'].isnull()) & (null_data['dti'].isnull()))*100/len(null_data)"
   ]
  },
  {
   "cell_type": "code",
   "execution_count": 14,
   "metadata": {},
   "outputs": [],
   "source": [
    "loan_nomissings = loan_subset.drop(null_data.index)"
   ]
  },
  {
   "cell_type": "markdown",
   "metadata": {},
   "source": [
    "We will be exploring Lending Club’s loan origination data from 2007-2015."
   ]
  },
  {
   "cell_type": "code",
   "execution_count": 15,
   "metadata": {},
   "outputs": [
    {
     "name": "stdout",
     "output_type": "stream",
     "text": [
      "From 2007\n",
      "To 2018\n"
     ]
    }
   ],
   "source": [
    "#data is NOT from 2007-2015\n",
    "print(\"From %s\" % min(loan_nomissings.year_issued))\n",
    "print(\"To %s\" %max(loan_nomissings.year_issued))"
   ]
  },
  {
   "cell_type": "code",
   "execution_count": 16,
   "metadata": {},
   "outputs": [
    {
     "data": {
      "text/html": [
       "<div>\n",
       "<style scoped>\n",
       "    .dataframe tbody tr th:only-of-type {\n",
       "        vertical-align: middle;\n",
       "    }\n",
       "\n",
       "    .dataframe tbody tr th {\n",
       "        vertical-align: top;\n",
       "    }\n",
       "\n",
       "    .dataframe thead th {\n",
       "        text-align: right;\n",
       "    }\n",
       "</style>\n",
       "<table border=\"1\" class=\"dataframe\">\n",
       "  <thead>\n",
       "    <tr style=\"text-align: right;\">\n",
       "      <th></th>\n",
       "      <th>loan_amnt</th>\n",
       "      <th>funded_amnt</th>\n",
       "      <th>int_rate</th>\n",
       "      <th>annual_inc</th>\n",
       "      <th>dti</th>\n",
       "      <th>revol_bal</th>\n",
       "      <th>total_pymnt</th>\n",
       "      <th>term_int</th>\n",
       "      <th>month_issued</th>\n",
       "      <th>year_issued</th>\n",
       "    </tr>\n",
       "  </thead>\n",
       "  <tbody>\n",
       "    <tr>\n",
       "      <th>count</th>\n",
       "      <td>2258953.0000</td>\n",
       "      <td>2258953.0000</td>\n",
       "      <td>2258953.0000</td>\n",
       "      <td>2258953.0000</td>\n",
       "      <td>2258953.0000</td>\n",
       "      <td>2258953.0000</td>\n",
       "      <td>2258953.0000</td>\n",
       "      <td>2258953.0000</td>\n",
       "      <td>2258953.0000</td>\n",
       "      <td>2258953.0000</td>\n",
       "    </tr>\n",
       "    <tr>\n",
       "      <th>mean</th>\n",
       "      <td>15043.8754</td>\n",
       "      <td>15038.6043</td>\n",
       "      <td>13.0921</td>\n",
       "      <td>78051.5025</td>\n",
       "      <td>18.8242</td>\n",
       "      <td>16658.9049</td>\n",
       "      <td>11827.2265</td>\n",
       "      <td>42.9081</td>\n",
       "      <td>6.7523</td>\n",
       "      <td>2015.8564</td>\n",
       "    </tr>\n",
       "    <tr>\n",
       "      <th>std</th>\n",
       "      <td>9188.0720</td>\n",
       "      <td>9186.2359</td>\n",
       "      <td>4.8314</td>\n",
       "      <td>112718.4204</td>\n",
       "      <td>14.1833</td>\n",
       "      <td>22945.3779</td>\n",
       "      <td>9890.3945</td>\n",
       "      <td>10.8661</td>\n",
       "      <td>3.4096</td>\n",
       "      <td>1.7926</td>\n",
       "    </tr>\n",
       "    <tr>\n",
       "      <th>min</th>\n",
       "      <td>500.0000</td>\n",
       "      <td>500.0000</td>\n",
       "      <td>5.3100</td>\n",
       "      <td>0.0000</td>\n",
       "      <td>-1.0000</td>\n",
       "      <td>0.0000</td>\n",
       "      <td>0.0000</td>\n",
       "      <td>36.0000</td>\n",
       "      <td>1.0000</td>\n",
       "      <td>2007.0000</td>\n",
       "    </tr>\n",
       "    <tr>\n",
       "      <th>25%</th>\n",
       "      <td>8000.0000</td>\n",
       "      <td>8000.0000</td>\n",
       "      <td>9.4900</td>\n",
       "      <td>46000.0000</td>\n",
       "      <td>11.8900</td>\n",
       "      <td>5951.0000</td>\n",
       "      <td>4274.4700</td>\n",
       "      <td>36.0000</td>\n",
       "      <td>4.0000</td>\n",
       "      <td>2015.0000</td>\n",
       "    </tr>\n",
       "    <tr>\n",
       "      <th>50%</th>\n",
       "      <td>12900.0000</td>\n",
       "      <td>12850.0000</td>\n",
       "      <td>12.6200</td>\n",
       "      <td>65000.0000</td>\n",
       "      <td>17.8400</td>\n",
       "      <td>11325.0000</td>\n",
       "      <td>9065.1200</td>\n",
       "      <td>36.0000</td>\n",
       "      <td>7.0000</td>\n",
       "      <td>2016.0000</td>\n",
       "    </tr>\n",
       "    <tr>\n",
       "      <th>75%</th>\n",
       "      <td>20000.0000</td>\n",
       "      <td>20000.0000</td>\n",
       "      <td>15.9900</td>\n",
       "      <td>93000.0000</td>\n",
       "      <td>24.4900</td>\n",
       "      <td>20247.0000</td>\n",
       "      <td>16712.6200</td>\n",
       "      <td>60.0000</td>\n",
       "      <td>10.0000</td>\n",
       "      <td>2017.0000</td>\n",
       "    </tr>\n",
       "    <tr>\n",
       "      <th>max</th>\n",
       "      <td>40000.0000</td>\n",
       "      <td>40000.0000</td>\n",
       "      <td>30.9900</td>\n",
       "      <td>110000000.0000</td>\n",
       "      <td>999.0000</td>\n",
       "      <td>2904836.0000</td>\n",
       "      <td>63296.8779</td>\n",
       "      <td>60.0000</td>\n",
       "      <td>12.0000</td>\n",
       "      <td>2018.0000</td>\n",
       "    </tr>\n",
       "  </tbody>\n",
       "</table>\n",
       "</div>"
      ],
      "text/plain": [
       "         loan_amnt  funded_amnt     int_rate     annual_inc          dti  \\\n",
       "count 2258953.0000 2258953.0000 2258953.0000   2258953.0000 2258953.0000   \n",
       "mean    15043.8754   15038.6043      13.0921     78051.5025      18.8242   \n",
       "std      9188.0720    9186.2359       4.8314    112718.4204      14.1833   \n",
       "min       500.0000     500.0000       5.3100         0.0000      -1.0000   \n",
       "25%      8000.0000    8000.0000       9.4900     46000.0000      11.8900   \n",
       "50%     12900.0000   12850.0000      12.6200     65000.0000      17.8400   \n",
       "75%     20000.0000   20000.0000      15.9900     93000.0000      24.4900   \n",
       "max     40000.0000   40000.0000      30.9900 110000000.0000     999.0000   \n",
       "\n",
       "         revol_bal  total_pymnt     term_int  month_issued  year_issued  \n",
       "count 2258953.0000 2258953.0000 2258953.0000  2258953.0000 2258953.0000  \n",
       "mean    16658.9049   11827.2265      42.9081        6.7523    2015.8564  \n",
       "std     22945.3779    9890.3945      10.8661        3.4096       1.7926  \n",
       "min         0.0000       0.0000      36.0000        1.0000    2007.0000  \n",
       "25%      5951.0000    4274.4700      36.0000        4.0000    2015.0000  \n",
       "50%     11325.0000    9065.1200      36.0000        7.0000    2016.0000  \n",
       "75%     20247.0000   16712.6200      60.0000       10.0000    2017.0000  \n",
       "max   2904836.0000   63296.8779      60.0000       12.0000    2018.0000  "
      ]
     },
     "execution_count": 16,
     "metadata": {},
     "output_type": "execute_result"
    }
   ],
   "source": [
    "loan_nomissings.describe()"
   ]
  },
  {
   "cell_type": "code",
   "execution_count": 17,
   "metadata": {},
   "outputs": [
    {
     "data": {
      "text/plain": [
       "<matplotlib.axes._subplots.AxesSubplot at 0x7fde75707be0>"
      ]
     },
     "execution_count": 17,
     "metadata": {},
     "output_type": "execute_result"
    },
    {
     "data": {
      "image/png": "[encoded data removed]",
      "text/plain": [
       "<Figure size 432x288 with 1 Axes>"
      ]
     },
     "metadata": {
      "needs_background": "light"
     },
     "output_type": "display_data"
    }
   ],
   "source": [
    "loan_nomissings.grade.value_counts().plot(kind='bar')"
   ]
  },
  {
   "cell_type": "code",
   "execution_count": 18,
   "metadata": {},
   "outputs": [
    {
     "data": {
      "text/plain": [
       "<matplotlib.axes._subplots.AxesSubplot at 0x7fde75650cf8>"
      ]
     },
     "execution_count": 18,
     "metadata": {},
     "output_type": "execute_result"
    },
    {
     "data": {
      "image/png": "[encoded data removed]",
      "text/plain": [
       "<Figure size 432x288 with 1 Axes>"
      ]
     },
     "metadata": {
      "needs_background": "light"
     },
     "output_type": "display_data"
    }
   ],
   "source": [
    "loan_nomissings.term.value_counts().plot(kind='bar')"
   ]
  },
  {
   "cell_type": "code",
   "execution_count": 19,
   "metadata": {},
   "outputs": [
    {
     "data": {
      "text/plain": [
       "<matplotlib.axes._subplots.AxesSubplot at 0x7fde75180198>"
      ]
     },
     "execution_count": 19,
     "metadata": {},
     "output_type": "execute_result"
    },
    {
     "data": {
      "image/png": "[encoded data removed]",
      "text/plain": [
       "<Figure size 432x288 with 1 Axes>"
      ]
     },
     "metadata": {
      "needs_background": "light"
     },
     "output_type": "display_data"
    }
   ],
   "source": [
    "loan_nomissings.year_issued.value_counts().plot(kind='bar')"
   ]
  },
  {
   "cell_type": "code",
   "execution_count": 20,
   "metadata": {},
   "outputs": [
    {
     "data": {
      "text/plain": [
       "<matplotlib.axes._subplots.AxesSubplot at 0x7fde751633c8>"
      ]
     },
     "execution_count": 20,
     "metadata": {},
     "output_type": "execute_result"
    },
    {
     "data": {
      "image/png": "[encoded data removed]",
      "text/plain": [
       "<Figure size 432x288 with 1 Axes>"
      ]
     },
     "metadata": {
      "needs_background": "light"
     },
     "output_type": "display_data"
    }
   ],
   "source": [
    "loan_nomissings.month_issued.value_counts().reindex([1,2,3,4,5,6,7,8,9,10,11,12]).plot(kind='bar')"
   ]
  },
  {
   "cell_type": "code",
   "execution_count": 21,
   "metadata": {},
   "outputs": [
    {
     "data": {
      "text/plain": [
       "<matplotlib.axes._subplots.AxesSubplot at 0x7fde75092cf8>"
      ]
     },
     "execution_count": 21,
     "metadata": {},
     "output_type": "execute_result"
    },
    {
     "data": {
      "image/png": "[encoded data removed]",
      "text/plain": [
       "<Figure size 432x288 with 1 Axes>"
      ]
     },
     "metadata": {
      "needs_background": "light"
     },
     "output_type": "display_data"
    }
   ],
   "source": [
    "loan_nomissings.loan_status.value_counts().plot(kind='bar')"
   ]
  },
  {
   "cell_type": "code",
   "execution_count": 22,
   "metadata": {},
   "outputs": [
    {
     "name": "stdout",
     "output_type": "stream",
     "text": [
      "Loan Amount Distribution BoxPlot\n"
     ]
    },
    {
     "data": {
      "text/plain": [
       "<matplotlib.axes._subplots.AxesSubplot at 0x7fde75012b00>"
      ]
     },
     "execution_count": 22,
     "metadata": {},
     "output_type": "execute_result"
    },
    {
     "data": {
      "image/png": "[encoded data removed]",
      "text/plain": [
       "<Figure size 1008x432 with 1 Axes>"
      ]
     },
     "metadata": {
      "needs_background": "light"
     },
     "output_type": "display_data"
    }
   ],
   "source": [
    "plt.figure(figsize = (14,6))\n",
    "print(\"Loan Amount Distribution BoxPlot\")\n",
    "sns.boxplot(x=loan_nomissings.term, y=loan_nomissings.loan_amnt)"
   ]
  },
  {
   "cell_type": "code",
   "execution_count": 23,
   "metadata": {},
   "outputs": [
    {
     "data": {
      "image/png": "[encoded data removed]",
      "text/plain": [
       "<Figure size 1008x432 with 1 Axes>"
      ]
     },
     "metadata": {
      "needs_background": "light"
     },
     "output_type": "display_data"
    }
   ],
   "source": [
    "plt.figure(figsize = (14,6))\n",
    "g = sns.pointplot(x='month_issued', y='loan_amnt', \n",
    "              data=loan_nomissings)\n",
    "g.set_xticklabels(g.get_xticklabels())\n",
    "g.set_xlabel(\"Month issued\")\n",
    "g.set_ylabel(\"Mean amount\")\n",
    "g.set_title(\"Loan Amount by Months\")\n",
    "plt.show()"
   ]
  },
  {
   "cell_type": "code",
   "execution_count": 24,
   "metadata": {},
   "outputs": [
    {
     "data": {
      "image/png": "[encoded data removed]",
      "text/plain": [
       "<Figure size 1008x432 with 1 Axes>"
      ]
     },
     "metadata": {
      "needs_background": "light"
     },
     "output_type": "display_data"
    }
   ],
   "source": [
    "plt.figure(figsize = (14,6))\n",
    "g = sns.pointplot(x='year_issued', y='loan_amnt', \n",
    "              data=loan_nomissings, hue='grade')\n",
    "g.set_xticklabels(g.get_xticklabels(),rotation=90)\n",
    "g.set_xlabel(\"Year issued\")\n",
    "g.set_ylabel(\"Mean amount\")\n",
    "g.set_title(\"Loan Amount by year and grade\")\n",
    "plt.legend(bbox_to_anchor=(1, 1), loc=2, borderaxespad=0.5)\n",
    "plt.show()"
   ]
  },
  {
   "cell_type": "code",
   "execution_count": 25,
   "metadata": {},
   "outputs": [],
   "source": [
    "##one could say average loan sizes ate stable since 2013 for all grades"
   ]
  },
  {
   "cell_type": "markdown",
   "metadata": {},
   "source": [
    "### Data insight: How has the portfolio in terms of total amount lended to which Grade changed?"
   ]
  },
  {
   "cell_type": "code",
   "execution_count": 26,
   "metadata": {},
   "outputs": [],
   "source": [
    "year_amt = loan_nomissings.loan_amnt.groupby([loan_nomissings.year_issued]).agg(lambda x: sum(x))"
   ]
  },
  {
   "cell_type": "code",
   "execution_count": 27,
   "metadata": {},
   "outputs": [],
   "source": [
    "year_grade_amt = loan_nomissings.loan_amnt.groupby([loan_nomissings.year_issued,loan_nomissings.grade]).agg(lambda x: sum(x))"
   ]
  },
  {
   "cell_type": "code",
   "execution_count": 28,
   "metadata": {},
   "outputs": [],
   "source": [
    "year_grade_pct = year_grade_amt/year_amt"
   ]
  },
  {
   "cell_type": "code",
   "execution_count": 29,
   "metadata": {},
   "outputs": [],
   "source": [
    "year_grade_pct = year_grade_pct.reset_index()"
   ]
  },
  {
   "cell_type": "code",
   "execution_count": 30,
   "metadata": {
    "scrolled": true
   },
   "outputs": [
    {
     "data": {
      "text/plain": [
       "<matplotlib.axes._subplots.AxesSubplot at 0x7fde74daf470>"
      ]
     },
     "execution_count": 30,
     "metadata": {},
     "output_type": "execute_result"
    },
    {
     "data": {
      "image/png": "[encoded data removed]",
      "text/plain": [
       "<Figure size 1008x432 with 1 Axes>"
      ]
     },
     "metadata": {
      "needs_background": "light"
     },
     "output_type": "display_data"
    }
   ],
   "source": [
    "plt.figure(figsize = (14,6))\n",
    "sns.barplot(y='loan_amnt', x=\"grade\",hue=\"year_issued\", data=year_grade_pct, palette='muted')"
   ]
  },
  {
   "cell_type": "code",
   "execution_count": 31,
   "metadata": {},
   "outputs": [],
   "source": [
    "## EFG declining, ABC increasing, D stable"
   ]
  },
  {
   "cell_type": "markdown",
   "metadata": {},
   "source": [
    "## PART2: BUSINESS ANALYSIS"
   ]
  },
  {
   "cell_type": "markdown",
   "metadata": {},
   "source": [
    "We are interested in evaluating whether the 36 month term loans would make for a good investment.\n",
    "\n",
    "Please investigate the following.\n",
    "\n",
    "Assume a 36 month investment period for each loan, and exclude loans with less than 36 months of data available."
   ]
  },
  {
   "cell_type": "code",
   "execution_count": 32,
   "metadata": {},
   "outputs": [],
   "source": [
    "#I assume this is where the 2007-2015 assumption comes from? 2018 minus 3 active years is 2015...\n",
    "#so we are going to filter until Dec-2015\n",
    "loan_nomissings_until_2015 = loan_nomissings[loan_nomissings.year_issued <=2015]\n",
    "\n",
    "#not sure if this means to check only the ones that are 36 months long or just assume that all of them were 36 months long?\n",
    "#loan_nomissings_until_2015 = loan_nomissings[loan_nomissings.term_int == 36]"
   ]
  },
  {
   "cell_type": "markdown",
   "metadata": {},
   "source": [
    "### What percentage of loans has been fully paid?"
   ]
  },
  {
   "cell_type": "code",
   "execution_count": 33,
   "metadata": {},
   "outputs": [
    {
     "name": "stdout",
     "output_type": "stream",
     "text": [
      "75.63% of loans before 1 Jan 2016 has been paid fully according to the loan_status column\n",
      "46.11% of ALL loans have been paid fully according to the loan_status column, this includes currently open loans\n"
     ]
    }
   ],
   "source": [
    "print(\"%.2f%% of loans before 1 Jan 2016 has been paid fully according to the loan_status column\" % (sum((loan_nomissings_until_2015.loan_status == \"Fully Paid\")) * 100 / len(loan_nomissings_until_2015)))\n",
    "print(\"%.2f%% of ALL loans have been paid fully according to the loan_status column, this includes currently open loans\" % (sum((loan_nomissings.loan_status == \"Fully Paid\")) * 100 / len(loan_nomissings)))"
   ]
  },
  {
   "cell_type": "markdown",
   "metadata": {},
   "source": [
    "### When bucketed by Year and Grade, which bucket has highest raid of default"
   ]
  },
  {
   "cell_type": "code",
   "execution_count": 34,
   "metadata": {},
   "outputs": [
    {
     "name": "stderr",
     "output_type": "stream",
     "text": [
      "/home/biebiep/.local/lib/python3.6/site-packages/pandas/core/indexing.py:376: SettingWithCopyWarning: \n",
      "A value is trying to be set on a copy of a slice from a DataFrame.\n",
      "Try using .loc[row_indexer,col_indexer] = value instead\n",
      "\n",
      "See the caveats in the documentation: http://pandas.pydata.org/pandas-docs/stable/user_guide/indexing.html#returning-a-view-versus-a-copy\n",
      "  self.obj[key] = _infer_fill_value(value)\n",
      "/home/biebiep/.local/lib/python3.6/site-packages/pandas/core/indexing.py:494: SettingWithCopyWarning: \n",
      "A value is trying to be set on a copy of a slice from a DataFrame.\n",
      "Try using .loc[row_indexer,col_indexer] = value instead\n",
      "\n",
      "See the caveats in the documentation: http://pandas.pydata.org/pandas-docs/stable/user_guide/indexing.html#returning-a-view-versus-a-copy\n",
      "  self.obj[item] = s\n"
     ]
    }
   ],
   "source": [
    "#filtering out paid and current loans\n",
    "loan_nomissings_until_2015.loc[:,\"defaulted\"] = (loan_nomissings_until_2015.loan_status != \"Fully Paid\") & (loan_nomissings_until_2015.loan_status != \"Current\")"
   ]
  },
  {
   "cell_type": "code",
   "execution_count": 35,
   "metadata": {},
   "outputs": [],
   "source": [
    "#loans per year\n",
    "year_grade_loans = loan_nomissings_until_2015.defaulted.groupby([loan_nomissings_until_2015.year_issued,loan_nomissings_until_2015.grade]).agg(lambda x: len(x))\n",
    "#defaulting loans per year\n",
    "year_grade_dflt = loan_nomissings_until_2015.defaulted.groupby([loan_nomissings_until_2015.year_issued,loan_nomissings_until_2015.grade]).agg(lambda x: sum(x))\n",
    "#percentage default per year\n",
    "year_grade_dflt_pct = year_grade_dflt/year_grade_loans\n",
    "#solution\n",
    "year_grade_dflt_pct = year_grade_dflt_pct.reset_index()\n",
    "\n",
    "#couldve done this in one .agg(lambda x: sum(x)/len(x)) but having the intermediary numbers somewhere handy is always nice"
   ]
  },
  {
   "cell_type": "code",
   "execution_count": 36,
   "metadata": {},
   "outputs": [
    {
     "data": {
      "text/html": [
       "<div>\n",
       "<style scoped>\n",
       "    .dataframe tbody tr th:only-of-type {\n",
       "        vertical-align: middle;\n",
       "    }\n",
       "\n",
       "    .dataframe tbody tr th {\n",
       "        vertical-align: top;\n",
       "    }\n",
       "\n",
       "    .dataframe thead th {\n",
       "        text-align: right;\n",
       "    }\n",
       "</style>\n",
       "<table border=\"1\" class=\"dataframe\">\n",
       "  <thead>\n",
       "    <tr style=\"text-align: right;\">\n",
       "      <th></th>\n",
       "      <th>year_issued</th>\n",
       "      <th>grade</th>\n",
       "      <th>defaulted</th>\n",
       "    </tr>\n",
       "  </thead>\n",
       "  <tbody>\n",
       "    <tr>\n",
       "      <th>0</th>\n",
       "      <td>2007</td>\n",
       "      <td>A</td>\n",
       "      <td>0.2432</td>\n",
       "    </tr>\n",
       "    <tr>\n",
       "      <th>1</th>\n",
       "      <td>2007</td>\n",
       "      <td>B</td>\n",
       "      <td>0.4592</td>\n",
       "    </tr>\n",
       "    <tr>\n",
       "      <th>2</th>\n",
       "      <td>2007</td>\n",
       "      <td>C</td>\n",
       "      <td>0.5674</td>\n",
       "    </tr>\n",
       "    <tr>\n",
       "      <th>3</th>\n",
       "      <td>2007</td>\n",
       "      <td>D</td>\n",
       "      <td>0.7778</td>\n",
       "    </tr>\n",
       "    <tr>\n",
       "      <th>4</th>\n",
       "      <td>2007</td>\n",
       "      <td>E</td>\n",
       "      <td>0.9100</td>\n",
       "    </tr>\n",
       "    <tr>\n",
       "      <th>...</th>\n",
       "      <td>...</td>\n",
       "      <td>...</td>\n",
       "      <td>...</td>\n",
       "    </tr>\n",
       "    <tr>\n",
       "      <th>58</th>\n",
       "      <td>2015</td>\n",
       "      <td>C</td>\n",
       "      <td>0.2001</td>\n",
       "    </tr>\n",
       "    <tr>\n",
       "      <th>59</th>\n",
       "      <td>2015</td>\n",
       "      <td>D</td>\n",
       "      <td>0.2827</td>\n",
       "    </tr>\n",
       "    <tr>\n",
       "      <th>60</th>\n",
       "      <td>2015</td>\n",
       "      <td>E</td>\n",
       "      <td>0.3528</td>\n",
       "    </tr>\n",
       "    <tr>\n",
       "      <th>61</th>\n",
       "      <td>2015</td>\n",
       "      <td>F</td>\n",
       "      <td>0.4407</td>\n",
       "    </tr>\n",
       "    <tr>\n",
       "      <th>62</th>\n",
       "      <td>2015</td>\n",
       "      <td>G</td>\n",
       "      <td>0.4850</td>\n",
       "    </tr>\n",
       "  </tbody>\n",
       "</table>\n",
       "<p>63 rows × 3 columns</p>\n",
       "</div>"
      ],
      "text/plain": [
       "    year_issued grade  defaulted\n",
       "0          2007     A     0.2432\n",
       "1          2007     B     0.4592\n",
       "2          2007     C     0.5674\n",
       "3          2007     D     0.7778\n",
       "4          2007     E     0.9100\n",
       "..          ...   ...        ...\n",
       "58         2015     C     0.2001\n",
       "59         2015     D     0.2827\n",
       "60         2015     E     0.3528\n",
       "61         2015     F     0.4407\n",
       "62         2015     G     0.4850\n",
       "\n",
       "[63 rows x 3 columns]"
      ]
     },
     "execution_count": 36,
     "metadata": {},
     "output_type": "execute_result"
    }
   ],
   "source": [
    "year_grade_dflt_pct"
   ]
  },
  {
   "cell_type": "code",
   "execution_count": 37,
   "metadata": {},
   "outputs": [
    {
     "data": {
      "text/plain": [
       "<matplotlib.axes._subplots.AxesSubplot at 0x7fde74f27550>"
      ]
     },
     "execution_count": 37,
     "metadata": {},
     "output_type": "execute_result"
    },
    {
     "data": {
      "image/png": "[encoded data removed]",
      "text/plain": [
       "<Figure size 1008x432 with 1 Axes>"
      ]
     },
     "metadata": {
      "needs_background": "light"
     },
     "output_type": "display_data"
    }
   ],
   "source": [
    "plt.figure(figsize = (14,6))\n",
    "sns.barplot(y='defaulted', x=\"grade\",hue=\"year_issued\", data=year_grade_dflt_pct, palette='muted')"
   ]
  },
  {
   "cell_type": "code",
   "execution_count": 38,
   "metadata": {},
   "outputs": [],
   "source": [
    "def calculate_arr_simple(total: int, funded: int) -> float:\n",
    "    arr = ((total/funded)**(1/3) - 1)\n",
    "    return arr"
   ]
  },
  {
   "cell_type": "markdown",
   "metadata": {},
   "source": [
    "### when bucketed by year and grade, what is the ARR of these loans on average?"
   ]
  },
  {
   "cell_type": "code",
   "execution_count": 39,
   "metadata": {},
   "outputs": [],
   "source": [
    "loan_nomissings_until_2015.loc[:,'arr'] = ((loan_nomissings_until_2015.total_pymnt/loan_nomissings_until_2015.funded_amnt)**(1/3)) - 1"
   ]
  },
  {
   "cell_type": "code",
   "execution_count": 40,
   "metadata": {},
   "outputs": [],
   "source": [
    "year_grade_avg_arr = loan_nomissings_until_2015.arr.groupby([loan_nomissings_until_2015.year_issued,loan_nomissings_until_2015.grade]).agg(lambda x: np.mean(x))\n",
    "year_grade_avg_arr = year_grade_avg_arr.reset_index()"
   ]
  },
  {
   "cell_type": "code",
   "execution_count": 41,
   "metadata": {},
   "outputs": [
    {
     "data": {
      "text/plain": [
       "<matplotlib.axes._subplots.AxesSubplot at 0x7fde73916438>"
      ]
     },
     "execution_count": 41,
     "metadata": {},
     "output_type": "execute_result"
    },
    {
     "data": {
      "image/png": "[encoded data removed]",
      "text/plain": [
       "<Figure size 1008x432 with 1 Axes>"
      ]
     },
     "metadata": {
      "needs_background": "light"
     },
     "output_type": "display_data"
    }
   ],
   "source": [
    "plt.figure(figsize = (14,6))\n",
    "sns.barplot(y='arr', x=\"grade\",hue=\"year_issued\", data=year_grade_avg_arr, palette='muted')"
   ]
  },
  {
   "cell_type": "code",
   "execution_count": null,
   "metadata": {},
   "outputs": [],
   "source": []
  }
 ],
 "metadata": {
  "kernelspec": {
   "display_name": "Python 3",
   "language": "python",
   "name": "python3"
  },
  "language_info": {
   "codemirror_mode": {
    "name": "ipython",
    "version": 3
   },
   "file_extension": ".py",
   "mimetype": "text/x-python",
   "name": "python",
   "nbconvert_exporter": "python",
   "pygments_lexer": "ipython3",
   "version": "3.6.8"
  }
 },
 "nbformat": 4,
 "nbformat_minor": 2
}
